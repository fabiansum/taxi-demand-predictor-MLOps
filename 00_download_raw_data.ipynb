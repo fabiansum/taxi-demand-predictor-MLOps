{
 "cells": [
  {
   "cell_type": "code",
   "execution_count": 1,
   "metadata": {},
   "outputs": [],
   "source": [
    "%reload_ext autoreload\n",
    "%autoreload 2"
   ]
  },
  {
   "cell_type": "code",
   "execution_count": 2,
   "metadata": {},
   "outputs": [],
   "source": [
    "import time\n",
    "from src.data_green import load_green_raw_data"
   ]
  },
  {
   "cell_type": "code",
   "execution_count": 3,
   "metadata": {},
   "outputs": [
    {
     "name": "stdout",
     "output_type": "stream",
     "text": [
      "Downloading file 2018-01\n",
      "Downloading file 2018-02\n",
      "Downloading file 2018-03\n",
      "Downloading file 2018-04\n",
      "Downloading file 2018-05\n",
      "Downloading file 2018-06\n",
      "Downloading file 2018-07\n",
      "Downloading file 2018-08\n",
      "Downloading file 2018-09\n",
      "Downloading file 2018-10\n",
      "Downloading file 2018-11\n",
      "Downloading file 2018-12\n"
     ]
    }
   ],
   "source": [
    "load_green_raw_data(year=2018)\n",
    "time.sleep(30)"
   ]
  },
  {
   "cell_type": "code",
   "execution_count": 4,
   "metadata": {},
   "outputs": [
    {
     "name": "stdout",
     "output_type": "stream",
     "text": [
      "Downloading file 2017-01\n",
      "Downloading file 2017-02\n",
      "Downloading file 2017-03\n",
      "Downloading file 2017-04\n",
      "Downloading file 2017-05\n",
      "Downloading file 2017-06\n",
      "Downloading file 2017-07\n",
      "Downloading file 2017-08\n",
      "Downloading file 2017-09\n",
      "Downloading file 2017-10\n",
      "Downloading file 2017-11\n",
      "Downloading file 2017-12\n"
     ]
    }
   ],
   "source": [
    "load_green_raw_data(year=2017)\n",
    "time.sleep(30)"
   ]
  },
  {
   "cell_type": "code",
   "execution_count": 5,
   "metadata": {},
   "outputs": [
    {
     "name": "stdout",
     "output_type": "stream",
     "text": [
      "Downloading file 2016-01\n",
      "Downloading file 2016-02\n",
      "Downloading file 2016-03\n",
      "Downloading file 2016-04\n",
      "Downloading file 2016-05\n",
      "Downloading file 2016-06\n",
      "Downloading file 2016-07\n",
      "Downloading file 2016-08\n",
      "Downloading file 2016-09\n",
      "Downloading file 2016-10\n",
      "Downloading file 2016-11\n",
      "Downloading file 2016-12\n"
     ]
    }
   ],
   "source": [
    "load_green_raw_data(year=2016)\n",
    "time.sleep(30)"
   ]
  },
  {
   "cell_type": "code",
   "execution_count": 6,
   "metadata": {},
   "outputs": [
    {
     "name": "stdout",
     "output_type": "stream",
     "text": [
      "Downloading file 2015-01\n",
      "Downloading file 2015-02\n",
      "Downloading file 2015-03\n",
      "Downloading file 2015-04\n",
      "Downloading file 2015-05\n",
      "Downloading file 2015-06\n",
      "Downloading file 2015-07\n",
      "Downloading file 2015-08\n",
      "Downloading file 2015-09\n",
      "Downloading file 2015-10\n",
      "Downloading file 2015-11\n",
      "Downloading file 2015-12\n"
     ]
    }
   ],
   "source": [
    "load_green_raw_data(year=2015)\n",
    "time.sleep(30)"
   ]
  },
  {
   "cell_type": "code",
   "execution_count": 7,
   "metadata": {},
   "outputs": [
    {
     "name": "stdout",
     "output_type": "stream",
     "text": [
      "Downloading file 2014-01\n",
      "Downloading file 2014-02\n",
      "Downloading file 2014-03\n",
      "Downloading file 2014-04\n",
      "Downloading file 2014-05\n",
      "Downloading file 2014-06\n",
      "Downloading file 2014-07\n",
      "Downloading file 2014-08\n",
      "Downloading file 2014-09\n",
      "Downloading file 2014-10\n",
      "Downloading file 2014-11\n",
      "Downloading file 2014-12\n"
     ]
    }
   ],
   "source": [
    "load_green_raw_data(year=2014)\n",
    "time.sleep(30)"
   ]
  }
 ],
 "metadata": {
  "kernelspec": {
   "display_name": "ML_Ops",
   "language": "python",
   "name": "python3"
  },
  "language_info": {
   "codemirror_mode": {
    "name": "ipython",
    "version": 3
   },
   "file_extension": ".py",
   "mimetype": "text/x-python",
   "name": "python",
   "nbconvert_exporter": "python",
   "pygments_lexer": "ipython3",
   "version": "3.9.16"
  },
  "orig_nbformat": 4
 },
 "nbformat": 4,
 "nbformat_minor": 2
}
